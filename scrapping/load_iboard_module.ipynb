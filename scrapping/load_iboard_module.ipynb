{
 "cells": [
  {
   "cell_type": "code",
   "execution_count": 2,
   "metadata": {},
   "outputs": [],
   "source": [
    "import requests\n",
    "from bs4 import BeautifulSoup\n",
    "import pandas as pd\n",
    "import numpy as np\n",
    "from io import BytesIO\n",
    "import concurrent.futures\n",
    "import aiohttp\n",
    "import asyncio\n",
    "import nest_asyncio]\n",
    "from datetime import datetime\n"
   ]
  },
  {
   "cell_type": "code",
   "execution_count": 5,
   "metadata": {},
   "outputs": [],
   "source": [
    "market_data = pd.read_csv(\n",
    "    'https://raw.githubusercontent.com/thinh-vu/vnstock/beta/data/listing_companies_enhanced-2023.csv')\n",
    "ticker_list = list_companies['ticker'].to_list()\n",
    "\n",
    "\n",
    "async def fetch(session, url):\n",
    "    headers = {\n",
    "  \"User-Agent\": \"Mozilla/5.0 (Windows NT 10.0; Win64; x64) AppleWebKit/537.36 (KHTML, like Gecko) Chrome/107.0.0.0 Safari/537.36\"\n",
    "  }\n",
    "    async with session.get(url,headers=headers) as response:\n",
    "        return await response.json()\n",
    "\n",
    "\n",
    "async def main(ticker_list, url):\n",
    "    urls = [url.format(ticker) for ticker in ticker_list]\n",
    "\n",
    "    async with aiohttp.ClientSession() as session:\n",
    "        tasks = [fetch(session, url) for url in urls]\n",
    "        market_data = await asyncio.gather(*tasks)\n",
    "\n",
    "    market_df = pd.DataFrame(market_data)\n",
    "    print(market_df)\n",
    "    return market_df\n",
    "\n",
    "\n",
    "nest_asyncio.apply()\n"
   ]
  },
  {
   "cell_type": "markdown",
   "metadata": {},
   "source": [
    "## Extraction setting up"
   ]
  },
  {
   "cell_type": "markdown",
   "metadata": {},
   "source": [
    "### Using async and asyncio to fetch data from REST API"
   ]
  },
  {
   "cell_type": "code",
   "execution_count": 6,
   "metadata": {},
   "outputs": [],
   "source": [
    "# To display all tickers and their financial ratio from TCBS API as an iboard\n",
    "def load_iboard():\n",
    "    iboard = asyncio.run(main( ticker_list, 'https://apipubaws.tcbs.com.vn/stock-insight/v1/stock/second-tc-price?tickers={}'))\n",
    "    data = []\n",
    "    for i in np.array(iboard['data']):\n",
    "        data.append(i[0])\n",
    "    data = pd.DataFrame(data)\n",
    "    return data\n"
   ]
  },
  {
   "cell_type": "code",
   "execution_count": null,
   "metadata": {},
   "outputs": [],
   "source": [
    "iboard = load_iboard()\n",
    "display(iboard)"
   ]
  },
  {
   "cell_type": "code",
   "execution_count": 19,
   "metadata": {},
   "outputs": [],
   "source": [
    "iboard.to_excel(r'C:\\Users\\Dell\\Downloads\\data_analytics\\financial_project\\iboard_6aug23.xlsx')\n"
   ]
  },
  {
   "cell_type": "code",
   "execution_count": 15,
   "metadata": {},
   "outputs": [
    {
     "data": {
      "text/plain": [
       "'2.0.3'"
      ]
     },
     "execution_count": 15,
     "metadata": {},
     "output_type": "execute_result"
    }
   ],
   "source": []
  },
  {
   "cell_type": "code",
   "execution_count": null,
   "metadata": {},
   "outputs": [],
   "source": []
  }
 ],
 "metadata": {
  "kernelspec": {
   "display_name": "data_venv2",
   "language": "python",
   "name": "python3"
  },
  "language_info": {
   "codemirror_mode": {
    "name": "ipython",
    "version": 3
   },
   "file_extension": ".py",
   "mimetype": "text/x-python",
   "name": "python",
   "nbconvert_exporter": "python",
   "pygments_lexer": "ipython3",
   "version": "3.11.3"
  },
  "orig_nbformat": 4
 },
 "nbformat": 4,
 "nbformat_minor": 2
}
